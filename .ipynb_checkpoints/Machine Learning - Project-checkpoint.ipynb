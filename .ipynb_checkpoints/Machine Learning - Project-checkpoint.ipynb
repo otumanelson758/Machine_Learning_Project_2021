{
 "cells": [
  {
   "cell_type": "markdown",
   "id": "4291c1af",
   "metadata": {},
   "source": [
    "## Machine Learning - Project"
   ]
  },
  {
   "cell_type": "markdown",
   "id": "a10f5f79",
   "metadata": {},
   "source": [
    "**Background Information**\n",
    "\n",
    "HR analytics is revolutionising the way human resources departments operate, leading\n",
    "to higher efficiency and better results overall. Human resources have been using\n",
    "analytics for years. However, the collection, processing, and analysis of data have been\n",
    "largely manual, and given the nature of human resources dynamics and HR KPIs, the\n",
    "approach has been constraining HR. Therefore, it is surprising that HR departments\n",
    "woke up to the utility of machine learning so late in the game."
   ]
  },
  {
   "cell_type": "markdown",
   "id": "d67fe3ad",
   "metadata": {},
   "source": [
    "**Problem Statement**\n",
    "Your client is a large Multinational Corporation, and they have nine broad verticals\n",
    "across the organization. One of the problems your client faces is identifying the right\n",
    "people for promotion (only for the manager position and below) and preparing them in\n",
    "time.\n",
    "Currently the process, they are following is:\n",
    "* They first identify a set of employees based on recommendations/ past\n",
    "performance.\n",
    "*  Selected employees go through the separate training and evaluation program for\n",
    "each vertical.\n",
    "* These programs are based on the required skill of each vertical. At the end of the\n",
    "program, based on various factors such as training performance, KPI completion\n",
    "(only employees with KPIs completed greater than 60% are considered) etc., the\n",
    "employee gets a promotion.\n",
    "For the process mentioned above, the final promotions are only announced after the\n",
    "evaluation, and this leads to a delay in transition to their new roles. Hence, the company needs your help in identifying the eligible candidates at a particular checkpoint so thathey can expedite the entire promotion cycle.\n",
    "They have provided multiple attributes around employees’ past and current performance\n",
    "along with demographics. Now, The task is to predict whether a potential promotee at a\n",
    "checkpoint will be promoted or not after the evaluation process."
   ]
  },
  {
   "cell_type": "markdown",
   "id": "b21647e2",
   "metadata": {},
   "source": [
    "**Research Question**"
   ]
  },
  {
   "cell_type": "markdown",
   "id": "fb7e6879",
   "metadata": {},
   "source": [
    "The task is to predict whether a potential promotee at a checkpoint will be promoted or not after the evaluation process."
   ]
  },
  {
   "cell_type": "markdown",
   "id": "e80bd40c",
   "metadata": {},
   "source": [
    "### Recording the Experimental Design"
   ]
  },
  {
   "cell_type": "markdown",
   "id": "ba9d1f7d",
   "metadata": {},
   "source": [
    "**Data Understanding_Reading and loading the data.**\n",
    "\n",
    "we import the libraries for reading our dataset and analysis,preview the first five records in our dataset.,Preview a sample of 10 records from the  dataset\n",
    "\n",
    "**Data Cleaning**\n",
    "We clean the data set by checking for any iconsistent column names, missing data in the dataset and duplicate value.\n",
    "\n",
    "**Data Standardisation.**\n",
    "-we standardize our dataset by fixing inconsistent column names. we can perform data type conversion to fix inaccurate data.\n",
    "\n",
    "**Handling Errors,Missing Values,Datatypes and Error in Fields**\n",
    "\n",
    "**Research Questions**\n",
    "\n",
    "**Model Building**\n",
    "- Splitting the dataset, 80% for training and 20% for test data.\n",
    "- Making prediction \n",
    "- model accuracy and recommendation to our research question."
   ]
  },
  {
   "cell_type": "markdown",
   "id": "17cacc9c",
   "metadata": {},
   "source": [
    "**1. Read and load the dataset**"
   ]
  },
  {
   "cell_type": "code",
   "execution_count": 1,
   "id": "d1c1e814",
   "metadata": {},
   "outputs": [],
   "source": [
    "# we import the libraries for reading our dataset and analysis\n",
    "import pandas as pd\n",
    "import numpy as np"
   ]
  },
  {
   "cell_type": "code",
   "execution_count": 2,
   "id": "8cc85aa4",
   "metadata": {},
   "outputs": [],
   "source": [
    "#read the dataset\n",
    "df_hr=pd.read_csv(\"hrdataset.csv\")"
   ]
  },
  {
   "cell_type": "code",
   "execution_count": 3,
   "id": "81a17215",
   "metadata": {},
   "outputs": [
    {
     "data": {
      "text/html": [
       "<div>\n",
       "<style scoped>\n",
       "    .dataframe tbody tr th:only-of-type {\n",
       "        vertical-align: middle;\n",
       "    }\n",
       "\n",
       "    .dataframe tbody tr th {\n",
       "        vertical-align: top;\n",
       "    }\n",
       "\n",
       "    .dataframe thead th {\n",
       "        text-align: right;\n",
       "    }\n",
       "</style>\n",
       "<table border=\"1\" class=\"dataframe\">\n",
       "  <thead>\n",
       "    <tr style=\"text-align: right;\">\n",
       "      <th></th>\n",
       "      <th>employee_id</th>\n",
       "      <th>department</th>\n",
       "      <th>region</th>\n",
       "      <th>education</th>\n",
       "      <th>gender</th>\n",
       "      <th>recruitment_channel</th>\n",
       "      <th>no_of_trainings</th>\n",
       "      <th>age</th>\n",
       "      <th>previous_year_rating</th>\n",
       "      <th>length_of_service</th>\n",
       "      <th>KPIs_met &gt;80%</th>\n",
       "      <th>awards_won?</th>\n",
       "      <th>avg_training_score</th>\n",
       "      <th>is_promoted</th>\n",
       "    </tr>\n",
       "  </thead>\n",
       "  <tbody>\n",
       "    <tr>\n",
       "      <th>0</th>\n",
       "      <td>65438</td>\n",
       "      <td>Sales &amp; Marketing</td>\n",
       "      <td>region_7</td>\n",
       "      <td>Master's &amp; above</td>\n",
       "      <td>f</td>\n",
       "      <td>sourcing</td>\n",
       "      <td>1</td>\n",
       "      <td>35</td>\n",
       "      <td>5.0</td>\n",
       "      <td>8</td>\n",
       "      <td>1</td>\n",
       "      <td>0</td>\n",
       "      <td>49</td>\n",
       "      <td>0</td>\n",
       "    </tr>\n",
       "    <tr>\n",
       "      <th>1</th>\n",
       "      <td>65141</td>\n",
       "      <td>Operations</td>\n",
       "      <td>region_22</td>\n",
       "      <td>Bachelor's</td>\n",
       "      <td>m</td>\n",
       "      <td>other</td>\n",
       "      <td>1</td>\n",
       "      <td>30</td>\n",
       "      <td>5.0</td>\n",
       "      <td>4</td>\n",
       "      <td>0</td>\n",
       "      <td>0</td>\n",
       "      <td>60</td>\n",
       "      <td>0</td>\n",
       "    </tr>\n",
       "    <tr>\n",
       "      <th>2</th>\n",
       "      <td>7513</td>\n",
       "      <td>Sales &amp; Marketing</td>\n",
       "      <td>region_19</td>\n",
       "      <td>Bachelor's</td>\n",
       "      <td>m</td>\n",
       "      <td>sourcing</td>\n",
       "      <td>1</td>\n",
       "      <td>34</td>\n",
       "      <td>3.0</td>\n",
       "      <td>7</td>\n",
       "      <td>0</td>\n",
       "      <td>0</td>\n",
       "      <td>50</td>\n",
       "      <td>0</td>\n",
       "    </tr>\n",
       "    <tr>\n",
       "      <th>3</th>\n",
       "      <td>2542</td>\n",
       "      <td>Sales &amp; Marketing</td>\n",
       "      <td>region_23</td>\n",
       "      <td>Bachelor's</td>\n",
       "      <td>m</td>\n",
       "      <td>other</td>\n",
       "      <td>2</td>\n",
       "      <td>39</td>\n",
       "      <td>1.0</td>\n",
       "      <td>10</td>\n",
       "      <td>0</td>\n",
       "      <td>0</td>\n",
       "      <td>50</td>\n",
       "      <td>0</td>\n",
       "    </tr>\n",
       "    <tr>\n",
       "      <th>4</th>\n",
       "      <td>48945</td>\n",
       "      <td>Technology</td>\n",
       "      <td>region_26</td>\n",
       "      <td>Bachelor's</td>\n",
       "      <td>m</td>\n",
       "      <td>other</td>\n",
       "      <td>1</td>\n",
       "      <td>45</td>\n",
       "      <td>3.0</td>\n",
       "      <td>2</td>\n",
       "      <td>0</td>\n",
       "      <td>0</td>\n",
       "      <td>73</td>\n",
       "      <td>0</td>\n",
       "    </tr>\n",
       "  </tbody>\n",
       "</table>\n",
       "</div>"
      ],
      "text/plain": [
       "   employee_id         department     region         education gender  \\\n",
       "0        65438  Sales & Marketing   region_7  Master's & above      f   \n",
       "1        65141         Operations  region_22        Bachelor's      m   \n",
       "2         7513  Sales & Marketing  region_19        Bachelor's      m   \n",
       "3         2542  Sales & Marketing  region_23        Bachelor's      m   \n",
       "4        48945         Technology  region_26        Bachelor's      m   \n",
       "\n",
       "  recruitment_channel  no_of_trainings  age  previous_year_rating  \\\n",
       "0            sourcing                1   35                   5.0   \n",
       "1               other                1   30                   5.0   \n",
       "2            sourcing                1   34                   3.0   \n",
       "3               other                2   39                   1.0   \n",
       "4               other                1   45                   3.0   \n",
       "\n",
       "   length_of_service  KPIs_met >80%  awards_won?  avg_training_score  \\\n",
       "0                  8              1            0                  49   \n",
       "1                  4              0            0                  60   \n",
       "2                  7              0            0                  50   \n",
       "3                 10              0            0                  50   \n",
       "4                  2              0            0                  73   \n",
       "\n",
       "   is_promoted  \n",
       "0            0  \n",
       "1            0  \n",
       "2            0  \n",
       "3            0  \n",
       "4            0  "
      ]
     },
     "execution_count": 3,
     "metadata": {},
     "output_type": "execute_result"
    }
   ],
   "source": [
    "#preview the first five records in our dataset.\n",
    "df_hr.head()"
   ]
  },
  {
   "cell_type": "code",
   "execution_count": 4,
   "id": "3a364794",
   "metadata": {},
   "outputs": [
    {
     "data": {
      "text/html": [
       "<div>\n",
       "<style scoped>\n",
       "    .dataframe tbody tr th:only-of-type {\n",
       "        vertical-align: middle;\n",
       "    }\n",
       "\n",
       "    .dataframe tbody tr th {\n",
       "        vertical-align: top;\n",
       "    }\n",
       "\n",
       "    .dataframe thead th {\n",
       "        text-align: right;\n",
       "    }\n",
       "</style>\n",
       "<table border=\"1\" class=\"dataframe\">\n",
       "  <thead>\n",
       "    <tr style=\"text-align: right;\">\n",
       "      <th></th>\n",
       "      <th>employee_id</th>\n",
       "      <th>department</th>\n",
       "      <th>region</th>\n",
       "      <th>education</th>\n",
       "      <th>gender</th>\n",
       "      <th>recruitment_channel</th>\n",
       "      <th>no_of_trainings</th>\n",
       "      <th>age</th>\n",
       "      <th>previous_year_rating</th>\n",
       "      <th>length_of_service</th>\n",
       "      <th>KPIs_met &gt;80%</th>\n",
       "      <th>awards_won?</th>\n",
       "      <th>avg_training_score</th>\n",
       "      <th>is_promoted</th>\n",
       "    </tr>\n",
       "  </thead>\n",
       "  <tbody>\n",
       "    <tr>\n",
       "      <th>54803</th>\n",
       "      <td>3030</td>\n",
       "      <td>Technology</td>\n",
       "      <td>region_14</td>\n",
       "      <td>Bachelor's</td>\n",
       "      <td>m</td>\n",
       "      <td>sourcing</td>\n",
       "      <td>1</td>\n",
       "      <td>48</td>\n",
       "      <td>3.0</td>\n",
       "      <td>17</td>\n",
       "      <td>0</td>\n",
       "      <td>0</td>\n",
       "      <td>78</td>\n",
       "      <td>0</td>\n",
       "    </tr>\n",
       "    <tr>\n",
       "      <th>54804</th>\n",
       "      <td>74592</td>\n",
       "      <td>Operations</td>\n",
       "      <td>region_27</td>\n",
       "      <td>Master's &amp; above</td>\n",
       "      <td>f</td>\n",
       "      <td>other</td>\n",
       "      <td>1</td>\n",
       "      <td>37</td>\n",
       "      <td>2.0</td>\n",
       "      <td>6</td>\n",
       "      <td>0</td>\n",
       "      <td>0</td>\n",
       "      <td>56</td>\n",
       "      <td>0</td>\n",
       "    </tr>\n",
       "    <tr>\n",
       "      <th>54805</th>\n",
       "      <td>13918</td>\n",
       "      <td>Analytics</td>\n",
       "      <td>region_1</td>\n",
       "      <td>Bachelor's</td>\n",
       "      <td>m</td>\n",
       "      <td>other</td>\n",
       "      <td>1</td>\n",
       "      <td>27</td>\n",
       "      <td>5.0</td>\n",
       "      <td>3</td>\n",
       "      <td>1</td>\n",
       "      <td>0</td>\n",
       "      <td>79</td>\n",
       "      <td>0</td>\n",
       "    </tr>\n",
       "    <tr>\n",
       "      <th>54806</th>\n",
       "      <td>13614</td>\n",
       "      <td>Sales &amp; Marketing</td>\n",
       "      <td>region_9</td>\n",
       "      <td>NaN</td>\n",
       "      <td>m</td>\n",
       "      <td>sourcing</td>\n",
       "      <td>1</td>\n",
       "      <td>29</td>\n",
       "      <td>1.0</td>\n",
       "      <td>2</td>\n",
       "      <td>0</td>\n",
       "      <td>0</td>\n",
       "      <td>45</td>\n",
       "      <td>0</td>\n",
       "    </tr>\n",
       "    <tr>\n",
       "      <th>54807</th>\n",
       "      <td>51526</td>\n",
       "      <td>HR</td>\n",
       "      <td>region_22</td>\n",
       "      <td>Bachelor's</td>\n",
       "      <td>m</td>\n",
       "      <td>other</td>\n",
       "      <td>1</td>\n",
       "      <td>27</td>\n",
       "      <td>1.0</td>\n",
       "      <td>5</td>\n",
       "      <td>0</td>\n",
       "      <td>0</td>\n",
       "      <td>49</td>\n",
       "      <td>0</td>\n",
       "    </tr>\n",
       "  </tbody>\n",
       "</table>\n",
       "</div>"
      ],
      "text/plain": [
       "       employee_id         department     region         education gender  \\\n",
       "54803         3030         Technology  region_14        Bachelor's      m   \n",
       "54804        74592         Operations  region_27  Master's & above      f   \n",
       "54805        13918          Analytics   region_1        Bachelor's      m   \n",
       "54806        13614  Sales & Marketing   region_9               NaN      m   \n",
       "54807        51526                 HR  region_22        Bachelor's      m   \n",
       "\n",
       "      recruitment_channel  no_of_trainings  age  previous_year_rating  \\\n",
       "54803            sourcing                1   48                   3.0   \n",
       "54804               other                1   37                   2.0   \n",
       "54805               other                1   27                   5.0   \n",
       "54806            sourcing                1   29                   1.0   \n",
       "54807               other                1   27                   1.0   \n",
       "\n",
       "       length_of_service  KPIs_met >80%  awards_won?  avg_training_score  \\\n",
       "54803                 17              0            0                  78   \n",
       "54804                  6              0            0                  56   \n",
       "54805                  3              1            0                  79   \n",
       "54806                  2              0            0                  45   \n",
       "54807                  5              0            0                  49   \n",
       "\n",
       "       is_promoted  \n",
       "54803            0  \n",
       "54804            0  \n",
       "54805            0  \n",
       "54806            0  \n",
       "54807            0  "
      ]
     },
     "execution_count": 4,
     "metadata": {},
     "output_type": "execute_result"
    }
   ],
   "source": [
    "#Previewing the last few records\n",
    "df_hr.tail()"
   ]
  },
  {
   "cell_type": "code",
   "execution_count": 5,
   "id": "57641c91",
   "metadata": {},
   "outputs": [
    {
     "data": {
      "text/plain": [
       "(54808, 14)"
      ]
     },
     "execution_count": 5,
     "metadata": {},
     "output_type": "execute_result"
    }
   ],
   "source": [
    "#preview the no. of records/ size of records\n",
    "df_hr.shape"
   ]
  },
  {
   "cell_type": "markdown",
   "id": "14eb13c7",
   "metadata": {},
   "source": [
    "-The data set has 54808 rows and 14 columns as variables"
   ]
  },
  {
   "cell_type": "code",
   "execution_count": 6,
   "id": "6f7599b0",
   "metadata": {},
   "outputs": [
    {
     "data": {
      "text/html": [
       "<div>\n",
       "<style scoped>\n",
       "    .dataframe tbody tr th:only-of-type {\n",
       "        vertical-align: middle;\n",
       "    }\n",
       "\n",
       "    .dataframe tbody tr th {\n",
       "        vertical-align: top;\n",
       "    }\n",
       "\n",
       "    .dataframe thead th {\n",
       "        text-align: right;\n",
       "    }\n",
       "</style>\n",
       "<table border=\"1\" class=\"dataframe\">\n",
       "  <thead>\n",
       "    <tr style=\"text-align: right;\">\n",
       "      <th></th>\n",
       "      <th>employee_id</th>\n",
       "      <th>department</th>\n",
       "      <th>region</th>\n",
       "      <th>education</th>\n",
       "      <th>gender</th>\n",
       "      <th>recruitment_channel</th>\n",
       "      <th>no_of_trainings</th>\n",
       "      <th>age</th>\n",
       "      <th>previous_year_rating</th>\n",
       "      <th>length_of_service</th>\n",
       "      <th>KPIs_met &gt;80%</th>\n",
       "      <th>awards_won?</th>\n",
       "      <th>avg_training_score</th>\n",
       "      <th>is_promoted</th>\n",
       "    </tr>\n",
       "  </thead>\n",
       "  <tbody>\n",
       "    <tr>\n",
       "      <th>32164</th>\n",
       "      <td>65677</td>\n",
       "      <td>Analytics</td>\n",
       "      <td>region_2</td>\n",
       "      <td>Bachelor's</td>\n",
       "      <td>f</td>\n",
       "      <td>other</td>\n",
       "      <td>1</td>\n",
       "      <td>36</td>\n",
       "      <td>3.0</td>\n",
       "      <td>11</td>\n",
       "      <td>0</td>\n",
       "      <td>0</td>\n",
       "      <td>86</td>\n",
       "      <td>0</td>\n",
       "    </tr>\n",
       "    <tr>\n",
       "      <th>11207</th>\n",
       "      <td>31011</td>\n",
       "      <td>Operations</td>\n",
       "      <td>region_2</td>\n",
       "      <td>Master's &amp; above</td>\n",
       "      <td>f</td>\n",
       "      <td>sourcing</td>\n",
       "      <td>1</td>\n",
       "      <td>41</td>\n",
       "      <td>3.0</td>\n",
       "      <td>15</td>\n",
       "      <td>1</td>\n",
       "      <td>0</td>\n",
       "      <td>60</td>\n",
       "      <td>0</td>\n",
       "    </tr>\n",
       "    <tr>\n",
       "      <th>26914</th>\n",
       "      <td>76381</td>\n",
       "      <td>Sales &amp; Marketing</td>\n",
       "      <td>region_2</td>\n",
       "      <td>Bachelor's</td>\n",
       "      <td>m</td>\n",
       "      <td>sourcing</td>\n",
       "      <td>1</td>\n",
       "      <td>33</td>\n",
       "      <td>5.0</td>\n",
       "      <td>5</td>\n",
       "      <td>1</td>\n",
       "      <td>0</td>\n",
       "      <td>50</td>\n",
       "      <td>0</td>\n",
       "    </tr>\n",
       "    <tr>\n",
       "      <th>2487</th>\n",
       "      <td>31656</td>\n",
       "      <td>Sales &amp; Marketing</td>\n",
       "      <td>region_13</td>\n",
       "      <td>Bachelor's</td>\n",
       "      <td>f</td>\n",
       "      <td>other</td>\n",
       "      <td>1</td>\n",
       "      <td>31</td>\n",
       "      <td>4.0</td>\n",
       "      <td>4</td>\n",
       "      <td>0</td>\n",
       "      <td>0</td>\n",
       "      <td>48</td>\n",
       "      <td>0</td>\n",
       "    </tr>\n",
       "    <tr>\n",
       "      <th>13298</th>\n",
       "      <td>71932</td>\n",
       "      <td>Finance</td>\n",
       "      <td>region_32</td>\n",
       "      <td>Bachelor's</td>\n",
       "      <td>f</td>\n",
       "      <td>other</td>\n",
       "      <td>1</td>\n",
       "      <td>29</td>\n",
       "      <td>NaN</td>\n",
       "      <td>1</td>\n",
       "      <td>0</td>\n",
       "      <td>0</td>\n",
       "      <td>54</td>\n",
       "      <td>0</td>\n",
       "    </tr>\n",
       "    <tr>\n",
       "      <th>35239</th>\n",
       "      <td>1619</td>\n",
       "      <td>Technology</td>\n",
       "      <td>region_7</td>\n",
       "      <td>Bachelor's</td>\n",
       "      <td>f</td>\n",
       "      <td>sourcing</td>\n",
       "      <td>1</td>\n",
       "      <td>31</td>\n",
       "      <td>3.0</td>\n",
       "      <td>4</td>\n",
       "      <td>0</td>\n",
       "      <td>0</td>\n",
       "      <td>76</td>\n",
       "      <td>0</td>\n",
       "    </tr>\n",
       "    <tr>\n",
       "      <th>5339</th>\n",
       "      <td>61823</td>\n",
       "      <td>Procurement</td>\n",
       "      <td>region_15</td>\n",
       "      <td>Master's &amp; above</td>\n",
       "      <td>f</td>\n",
       "      <td>other</td>\n",
       "      <td>1</td>\n",
       "      <td>38</td>\n",
       "      <td>1.0</td>\n",
       "      <td>7</td>\n",
       "      <td>0</td>\n",
       "      <td>0</td>\n",
       "      <td>65</td>\n",
       "      <td>0</td>\n",
       "    </tr>\n",
       "    <tr>\n",
       "      <th>43461</th>\n",
       "      <td>66379</td>\n",
       "      <td>Operations</td>\n",
       "      <td>region_2</td>\n",
       "      <td>Bachelor's</td>\n",
       "      <td>f</td>\n",
       "      <td>referred</td>\n",
       "      <td>1</td>\n",
       "      <td>34</td>\n",
       "      <td>5.0</td>\n",
       "      <td>3</td>\n",
       "      <td>1</td>\n",
       "      <td>0</td>\n",
       "      <td>60</td>\n",
       "      <td>0</td>\n",
       "    </tr>\n",
       "    <tr>\n",
       "      <th>25897</th>\n",
       "      <td>12621</td>\n",
       "      <td>Procurement</td>\n",
       "      <td>region_22</td>\n",
       "      <td>Bachelor's</td>\n",
       "      <td>m</td>\n",
       "      <td>other</td>\n",
       "      <td>2</td>\n",
       "      <td>27</td>\n",
       "      <td>1.0</td>\n",
       "      <td>2</td>\n",
       "      <td>1</td>\n",
       "      <td>0</td>\n",
       "      <td>62</td>\n",
       "      <td>0</td>\n",
       "    </tr>\n",
       "    <tr>\n",
       "      <th>37912</th>\n",
       "      <td>75385</td>\n",
       "      <td>Operations</td>\n",
       "      <td>region_11</td>\n",
       "      <td>Bachelor's</td>\n",
       "      <td>m</td>\n",
       "      <td>other</td>\n",
       "      <td>1</td>\n",
       "      <td>37</td>\n",
       "      <td>3.0</td>\n",
       "      <td>10</td>\n",
       "      <td>1</td>\n",
       "      <td>0</td>\n",
       "      <td>55</td>\n",
       "      <td>0</td>\n",
       "    </tr>\n",
       "  </tbody>\n",
       "</table>\n",
       "</div>"
      ],
      "text/plain": [
       "       employee_id         department     region         education gender  \\\n",
       "32164        65677          Analytics   region_2        Bachelor's      f   \n",
       "11207        31011         Operations   region_2  Master's & above      f   \n",
       "26914        76381  Sales & Marketing   region_2        Bachelor's      m   \n",
       "2487         31656  Sales & Marketing  region_13        Bachelor's      f   \n",
       "13298        71932            Finance  region_32        Bachelor's      f   \n",
       "35239         1619         Technology   region_7        Bachelor's      f   \n",
       "5339         61823        Procurement  region_15  Master's & above      f   \n",
       "43461        66379         Operations   region_2        Bachelor's      f   \n",
       "25897        12621        Procurement  region_22        Bachelor's      m   \n",
       "37912        75385         Operations  region_11        Bachelor's      m   \n",
       "\n",
       "      recruitment_channel  no_of_trainings  age  previous_year_rating  \\\n",
       "32164               other                1   36                   3.0   \n",
       "11207            sourcing                1   41                   3.0   \n",
       "26914            sourcing                1   33                   5.0   \n",
       "2487                other                1   31                   4.0   \n",
       "13298               other                1   29                   NaN   \n",
       "35239            sourcing                1   31                   3.0   \n",
       "5339                other                1   38                   1.0   \n",
       "43461            referred                1   34                   5.0   \n",
       "25897               other                2   27                   1.0   \n",
       "37912               other                1   37                   3.0   \n",
       "\n",
       "       length_of_service  KPIs_met >80%  awards_won?  avg_training_score  \\\n",
       "32164                 11              0            0                  86   \n",
       "11207                 15              1            0                  60   \n",
       "26914                  5              1            0                  50   \n",
       "2487                   4              0            0                  48   \n",
       "13298                  1              0            0                  54   \n",
       "35239                  4              0            0                  76   \n",
       "5339                   7              0            0                  65   \n",
       "43461                  3              1            0                  60   \n",
       "25897                  2              1            0                  62   \n",
       "37912                 10              1            0                  55   \n",
       "\n",
       "       is_promoted  \n",
       "32164            0  \n",
       "11207            0  \n",
       "26914            0  \n",
       "2487             0  \n",
       "13298            0  \n",
       "35239            0  \n",
       "5339             0  \n",
       "43461            0  \n",
       "25897            0  \n",
       "37912            0  "
      ]
     },
     "execution_count": 6,
     "metadata": {},
     "output_type": "execute_result"
    }
   ],
   "source": [
    "#Preview a sample of 10 records from the  dataset\n",
    "df_hr.sample(10)"
   ]
  },
  {
   "cell_type": "code",
   "execution_count": 7,
   "id": "969eb889",
   "metadata": {},
   "outputs": [
    {
     "data": {
      "text/plain": [
       "employee_id               int64\n",
       "department               object\n",
       "region                   object\n",
       "education                object\n",
       "gender                   object\n",
       "recruitment_channel      object\n",
       "no_of_trainings           int64\n",
       "age                       int64\n",
       "previous_year_rating    float64\n",
       "length_of_service         int64\n",
       "KPIs_met >80%             int64\n",
       "awards_won?               int64\n",
       "avg_training_score        int64\n",
       "is_promoted               int64\n",
       "dtype: object"
      ]
     },
     "execution_count": 7,
     "metadata": {},
     "output_type": "execute_result"
    }
   ],
   "source": [
    "# Checking the datatypes of df variables(columns)\n",
    "df_hr.dtypes"
   ]
  },
  {
   "cell_type": "markdown",
   "id": "fcb77fbd",
   "metadata": {},
   "source": [
    "we preview the dtypes to understand the kind of data we will be working with for our model"
   ]
  },
  {
   "cell_type": "code",
   "execution_count": 8,
   "id": "7e9aff4e",
   "metadata": {},
   "outputs": [
    {
     "name": "stdout",
     "output_type": "stream",
     "text": [
      "<class 'pandas.core.frame.DataFrame'>\n",
      "RangeIndex: 54808 entries, 0 to 54807\n",
      "Data columns (total 14 columns):\n",
      " #   Column                Non-Null Count  Dtype  \n",
      "---  ------                --------------  -----  \n",
      " 0   employee_id           54808 non-null  int64  \n",
      " 1   department            54808 non-null  object \n",
      " 2   region                54808 non-null  object \n",
      " 3   education             52399 non-null  object \n",
      " 4   gender                54808 non-null  object \n",
      " 5   recruitment_channel   54808 non-null  object \n",
      " 6   no_of_trainings       54808 non-null  int64  \n",
      " 7   age                   54808 non-null  int64  \n",
      " 8   previous_year_rating  50684 non-null  float64\n",
      " 9   length_of_service     54808 non-null  int64  \n",
      " 10  KPIs_met >80%         54808 non-null  int64  \n",
      " 11  awards_won?           54808 non-null  int64  \n",
      " 12  avg_training_score    54808 non-null  int64  \n",
      " 13  is_promoted           54808 non-null  int64  \n",
      "dtypes: float64(1), int64(8), object(5)\n",
      "memory usage: 5.9+ MB\n"
     ]
    }
   ],
   "source": [
    "#check for Index range,data columns and entries in our dataset\n",
    "df_hr.info()"
   ]
  },
  {
   "cell_type": "code",
   "execution_count": 9,
   "id": "d5bc861a",
   "metadata": {},
   "outputs": [
    {
     "data": {
      "text/plain": [
       "['employee_id',\n",
       " 'department',\n",
       " 'region',\n",
       " 'education',\n",
       " 'gender',\n",
       " 'recruitment_channel',\n",
       " 'no_of_trainings',\n",
       " 'age',\n",
       " 'previous_year_rating',\n",
       " 'length_of_service',\n",
       " 'KPIs_met >80%',\n",
       " 'awards_won?',\n",
       " 'avg_training_score',\n",
       " 'is_promoted']"
      ]
     },
     "execution_count": 9,
     "metadata": {},
     "output_type": "execute_result"
    }
   ],
   "source": [
    "#Checking for the columns \n",
    "list(df_hr)"
   ]
  },
  {
   "cell_type": "markdown",
   "id": "8abda8a9",
   "metadata": {},
   "source": [
    "**2. Data Cleaning**"
   ]
  },
  {
   "cell_type": "markdown",
   "id": "c921f923",
   "metadata": {},
   "source": [
    "*We clean the data set by checking for any iconsistent column names, missing data in the dataset and duplicate value."
   ]
  },
  {
   "cell_type": "code",
   "execution_count": 10,
   "id": "a9485301",
   "metadata": {},
   "outputs": [
    {
     "data": {
      "text/plain": [
       "employee_id                0\n",
       "department                 0\n",
       "region                     0\n",
       "education               2409\n",
       "gender                     0\n",
       "recruitment_channel        0\n",
       "no_of_trainings            0\n",
       "age                        0\n",
       "previous_year_rating    4124\n",
       "length_of_service          0\n",
       "KPIs_met >80%              0\n",
       "awards_won?                0\n",
       "avg_training_score         0\n",
       "is_promoted                0\n",
       "dtype: int64"
      ]
     },
     "execution_count": 10,
     "metadata": {},
     "output_type": "execute_result"
    }
   ],
   "source": [
    "# we check for the missing values and in our data set\n",
    "df_hr.isnull().sum()"
   ]
  },
  {
   "cell_type": "markdown",
   "id": "a95c17d9",
   "metadata": {},
   "source": [
    "We note the below variables have missing data entries\n",
    "* education               2409\n",
    "* previous_year_rating    4124\n"
   ]
  },
  {
   "cell_type": "markdown",
   "id": "34758180",
   "metadata": {},
   "source": [
    "At this point we will have to drop the missing data entries variables.\n",
    "There are 2 features with missing value, 1 numeric & 1 non-numeric. the education feature with non-numeric data types has 4.40% missing value and the previous_year_rating feature with numeric data types has 7.52% missing value.\n",
    "When compared with the total row data, the number of missing values is relatively small."
   ]
  },
  {
   "cell_type": "code",
   "execution_count": 11,
   "id": "4a49ecd6",
   "metadata": {},
   "outputs": [
    {
     "data": {
      "text/plain": [
       "0"
      ]
     },
     "execution_count": 11,
     "metadata": {},
     "output_type": "execute_result"
    }
   ],
   "source": [
    "#Checking for duplicates in our dataset\n",
    "sum(df_hr.duplicated())"
   ]
  },
  {
   "cell_type": "code",
   "execution_count": 12,
   "id": "3d099afa",
   "metadata": {},
   "outputs": [
    {
     "data": {
      "text/plain": [
       "False"
      ]
     },
     "execution_count": 12,
     "metadata": {},
     "output_type": "execute_result"
    }
   ],
   "source": [
    "# Checking if any of the columns are all null\n",
    "df_hr.isnull().all(1).any()"
   ]
  },
  {
   "cell_type": "markdown",
   "id": "8efa179c",
   "metadata": {},
   "source": [
    "our data set does not have duplicates"
   ]
  },
  {
   "cell_type": "code",
   "execution_count": 13,
   "id": "51112af0",
   "metadata": {},
   "outputs": [
    {
     "data": {
      "text/plain": [
       "False"
      ]
     },
     "execution_count": 13,
     "metadata": {},
     "output_type": "execute_result"
    }
   ],
   "source": [
    "# We check if any of the rows in the dataset are all null\n",
    "df_hr.isnull().all(1).any()"
   ]
  },
  {
   "cell_type": "markdown",
   "id": "37b957a1",
   "metadata": {},
   "source": [
    "none of the rows in the data set are null"
   ]
  },
  {
   "cell_type": "code",
   "execution_count": 14,
   "id": "e5441359",
   "metadata": {},
   "outputs": [],
   "source": [
    "#At this point we will have to drop the missing data entries variables.\n",
    "#we create a new dataframe and name it df1_hr\n",
    "df1_hr = df_hr.dropna()"
   ]
  },
  {
   "cell_type": "code",
   "execution_count": 15,
   "id": "b7a03b05",
   "metadata": {},
   "outputs": [
    {
     "data": {
      "text/html": [
       "<div>\n",
       "<style scoped>\n",
       "    .dataframe tbody tr th:only-of-type {\n",
       "        vertical-align: middle;\n",
       "    }\n",
       "\n",
       "    .dataframe tbody tr th {\n",
       "        vertical-align: top;\n",
       "    }\n",
       "\n",
       "    .dataframe thead th {\n",
       "        text-align: right;\n",
       "    }\n",
       "</style>\n",
       "<table border=\"1\" class=\"dataframe\">\n",
       "  <thead>\n",
       "    <tr style=\"text-align: right;\">\n",
       "      <th></th>\n",
       "      <th>employee_id</th>\n",
       "      <th>department</th>\n",
       "      <th>region</th>\n",
       "      <th>education</th>\n",
       "      <th>gender</th>\n",
       "      <th>recruitment_channel</th>\n",
       "      <th>no_of_trainings</th>\n",
       "      <th>age</th>\n",
       "      <th>previous_year_rating</th>\n",
       "      <th>length_of_service</th>\n",
       "      <th>KPIs_met &gt;80%</th>\n",
       "      <th>awards_won?</th>\n",
       "      <th>avg_training_score</th>\n",
       "      <th>is_promoted</th>\n",
       "    </tr>\n",
       "  </thead>\n",
       "  <tbody>\n",
       "    <tr>\n",
       "      <th>0</th>\n",
       "      <td>65438</td>\n",
       "      <td>Sales &amp; Marketing</td>\n",
       "      <td>region_7</td>\n",
       "      <td>Master's &amp; above</td>\n",
       "      <td>f</td>\n",
       "      <td>sourcing</td>\n",
       "      <td>1</td>\n",
       "      <td>35</td>\n",
       "      <td>5.0</td>\n",
       "      <td>8</td>\n",
       "      <td>1</td>\n",
       "      <td>0</td>\n",
       "      <td>49</td>\n",
       "      <td>0</td>\n",
       "    </tr>\n",
       "    <tr>\n",
       "      <th>1</th>\n",
       "      <td>65141</td>\n",
       "      <td>Operations</td>\n",
       "      <td>region_22</td>\n",
       "      <td>Bachelor's</td>\n",
       "      <td>m</td>\n",
       "      <td>other</td>\n",
       "      <td>1</td>\n",
       "      <td>30</td>\n",
       "      <td>5.0</td>\n",
       "      <td>4</td>\n",
       "      <td>0</td>\n",
       "      <td>0</td>\n",
       "      <td>60</td>\n",
       "      <td>0</td>\n",
       "    </tr>\n",
       "    <tr>\n",
       "      <th>2</th>\n",
       "      <td>7513</td>\n",
       "      <td>Sales &amp; Marketing</td>\n",
       "      <td>region_19</td>\n",
       "      <td>Bachelor's</td>\n",
       "      <td>m</td>\n",
       "      <td>sourcing</td>\n",
       "      <td>1</td>\n",
       "      <td>34</td>\n",
       "      <td>3.0</td>\n",
       "      <td>7</td>\n",
       "      <td>0</td>\n",
       "      <td>0</td>\n",
       "      <td>50</td>\n",
       "      <td>0</td>\n",
       "    </tr>\n",
       "    <tr>\n",
       "      <th>3</th>\n",
       "      <td>2542</td>\n",
       "      <td>Sales &amp; Marketing</td>\n",
       "      <td>region_23</td>\n",
       "      <td>Bachelor's</td>\n",
       "      <td>m</td>\n",
       "      <td>other</td>\n",
       "      <td>2</td>\n",
       "      <td>39</td>\n",
       "      <td>1.0</td>\n",
       "      <td>10</td>\n",
       "      <td>0</td>\n",
       "      <td>0</td>\n",
       "      <td>50</td>\n",
       "      <td>0</td>\n",
       "    </tr>\n",
       "    <tr>\n",
       "      <th>4</th>\n",
       "      <td>48945</td>\n",
       "      <td>Technology</td>\n",
       "      <td>region_26</td>\n",
       "      <td>Bachelor's</td>\n",
       "      <td>m</td>\n",
       "      <td>other</td>\n",
       "      <td>1</td>\n",
       "      <td>45</td>\n",
       "      <td>3.0</td>\n",
       "      <td>2</td>\n",
       "      <td>0</td>\n",
       "      <td>0</td>\n",
       "      <td>73</td>\n",
       "      <td>0</td>\n",
       "    </tr>\n",
       "  </tbody>\n",
       "</table>\n",
       "</div>"
      ],
      "text/plain": [
       "   employee_id         department     region         education gender  \\\n",
       "0        65438  Sales & Marketing   region_7  Master's & above      f   \n",
       "1        65141         Operations  region_22        Bachelor's      m   \n",
       "2         7513  Sales & Marketing  region_19        Bachelor's      m   \n",
       "3         2542  Sales & Marketing  region_23        Bachelor's      m   \n",
       "4        48945         Technology  region_26        Bachelor's      m   \n",
       "\n",
       "  recruitment_channel  no_of_trainings  age  previous_year_rating  \\\n",
       "0            sourcing                1   35                   5.0   \n",
       "1               other                1   30                   5.0   \n",
       "2            sourcing                1   34                   3.0   \n",
       "3               other                2   39                   1.0   \n",
       "4               other                1   45                   3.0   \n",
       "\n",
       "   length_of_service  KPIs_met >80%  awards_won?  avg_training_score  \\\n",
       "0                  8              1            0                  49   \n",
       "1                  4              0            0                  60   \n",
       "2                  7              0            0                  50   \n",
       "3                 10              0            0                  50   \n",
       "4                  2              0            0                  73   \n",
       "\n",
       "   is_promoted  \n",
       "0            0  \n",
       "1            0  \n",
       "2            0  \n",
       "3            0  \n",
       "4            0  "
      ]
     },
     "execution_count": 15,
     "metadata": {},
     "output_type": "execute_result"
    }
   ],
   "source": [
    "df1_hr.head()#this is the new dataframe we preview the first five records again"
   ]
  },
  {
   "cell_type": "code",
   "execution_count": 16,
   "id": "3fa30e53",
   "metadata": {},
   "outputs": [
    {
     "data": {
      "text/plain": [
       "employee_id             0\n",
       "department              0\n",
       "region                  0\n",
       "education               0\n",
       "gender                  0\n",
       "recruitment_channel     0\n",
       "no_of_trainings         0\n",
       "age                     0\n",
       "previous_year_rating    0\n",
       "length_of_service       0\n",
       "KPIs_met >80%           0\n",
       "awards_won?             0\n",
       "avg_training_score      0\n",
       "is_promoted             0\n",
       "dtype: int64"
      ]
     },
     "execution_count": 16,
     "metadata": {},
     "output_type": "execute_result"
    }
   ],
   "source": [
    "#lets recheck if we dropped the missing values successfully\n",
    "df1_hr.isnull().sum()"
   ]
  },
  {
   "cell_type": "markdown",
   "id": "a6f2de1f",
   "metadata": {},
   "source": [
    "**our dataset is clean and does not have any missing values"
   ]
  },
  {
   "cell_type": "markdown",
   "id": "f3bc0c22",
   "metadata": {},
   "source": [
    "**3.Data Standardisation.**\n",
    "- we standardize our dataset by fixing inconsistent column names. we can perform data type conversion to fix inaccurate data."
   ]
  },
  {
   "cell_type": "code",
   "execution_count": 17,
   "id": "aea00f07",
   "metadata": {},
   "outputs": [
    {
     "data": {
      "text/plain": [
       "['employee_id',\n",
       " 'department',\n",
       " 'region',\n",
       " 'education',\n",
       " 'gender',\n",
       " 'recruitment_channel',\n",
       " 'no_of_trainings',\n",
       " 'age',\n",
       " 'previous_year_rating',\n",
       " 'length_of_service',\n",
       " 'KPIs_met >80%',\n",
       " 'awards_won?',\n",
       " 'avg_training_score',\n",
       " 'is_promoted']"
      ]
     },
     "execution_count": 17,
     "metadata": {},
     "output_type": "execute_result"
    }
   ],
   "source": [
    "list(df1_hr.columns)"
   ]
  },
  {
   "cell_type": "markdown",
   "id": "a4fc3bcc",
   "metadata": {},
   "source": [
    "variable **'KPIs_met >80%'** is in upper_case we convert it to lower_case to maintain uniformity as standardisation for the whole of the variables."
   ]
  },
  {
   "cell_type": "code",
   "execution_count": 18,
   "id": "ee0c5b0d",
   "metadata": {},
   "outputs": [
    {
     "name": "stderr",
     "output_type": "stream",
     "text": [
      "<ipython-input-18-ab9299800137>:2: FutureWarning: The default value of regex will change from True to False in a future version. In addition, single character regular expressions will*not* be treated as literal strings when regex=True.\n",
      "  df1_hr.columns = df1_hr.columns.str.strip().str.lower().str.replace(' ','_').str.replace('?','')\n"
     ]
    },
    {
     "data": {
      "text/plain": [
       "['employee_id',\n",
       " 'department',\n",
       " 'region',\n",
       " 'education',\n",
       " 'gender',\n",
       " 'recruitment_channel',\n",
       " 'no_of_trainings',\n",
       " 'age',\n",
       " 'previous_year_rating',\n",
       " 'length_of_service',\n",
       " 'kpis_met_>80%',\n",
       " 'awards_won',\n",
       " 'avg_training_score',\n",
       " 'is_promoted']"
      ]
     },
     "execution_count": 18,
     "metadata": {},
     "output_type": "execute_result"
    }
   ],
   "source": [
    "#Converting all the upper_columns to lower_case columns.we strip the columns data set and convert it to lower_case.\n",
    "df1_hr.columns = df1_hr.columns.str.strip().str.lower().str.replace(' ','_').str.replace('?','')\n",
    "list(df1_hr.columns)"
   ]
  },
  {
   "cell_type": "markdown",
   "id": "12f19c6c",
   "metadata": {},
   "source": [
    "**Hint: Use unique() function**\n",
    "\n",
    "-we check for the unique values in the columns just to certisfy if we have consistency in the columns and rows entries."
   ]
  },
  {
   "cell_type": "code",
   "execution_count": 19,
   "id": "bf2d14e5",
   "metadata": {},
   "outputs": [
    {
     "data": {
      "text/plain": [
       "array([65438, 65141,  7513, ..., 74592, 13918, 51526], dtype=int64)"
      ]
     },
     "execution_count": 19,
     "metadata": {},
     "output_type": "execute_result"
    }
   ],
   "source": [
    "#check for the employee_id unique values series\n",
    "df1_hr['employee_id'].unique()"
   ]
  },
  {
   "cell_type": "code",
   "execution_count": 20,
   "id": "7ddfa2e4",
   "metadata": {},
   "outputs": [
    {
     "data": {
      "text/plain": [
       "array(['Sales & Marketing', 'Operations', 'Technology', 'Analytics',\n",
       "       'R&D', 'Procurement', 'Finance', 'HR', 'Legal'], dtype=object)"
      ]
     },
     "execution_count": 20,
     "metadata": {},
     "output_type": "execute_result"
    }
   ],
   "source": [
    "#check for the department unique values series\n",
    "df1_hr['department'].unique()"
   ]
  },
  {
   "cell_type": "code",
   "execution_count": 21,
   "id": "84e4df88",
   "metadata": {},
   "outputs": [
    {
     "data": {
      "text/plain": [
       "array(['region_7', 'region_22', 'region_19', 'region_23', 'region_26',\n",
       "       'region_2', 'region_20', 'region_34', 'region_1', 'region_4',\n",
       "       'region_29', 'region_31', 'region_15', 'region_14', 'region_11',\n",
       "       'region_5', 'region_28', 'region_17', 'region_13', 'region_16',\n",
       "       'region_25', 'region_10', 'region_27', 'region_30', 'region_12',\n",
       "       'region_21', 'region_32', 'region_6', 'region_33', 'region_8',\n",
       "       'region_24', 'region_3', 'region_9', 'region_18'], dtype=object)"
      ]
     },
     "execution_count": 21,
     "metadata": {},
     "output_type": "execute_result"
    }
   ],
   "source": [
    "#check for the region unique values series\n",
    "df1_hr['region'].unique()"
   ]
  },
  {
   "cell_type": "code",
   "execution_count": 22,
   "id": "255554ef",
   "metadata": {},
   "outputs": [
    {
     "data": {
      "text/plain": [
       "array([\"Master's & above\", \"Bachelor's\", 'Below Secondary'], dtype=object)"
      ]
     },
     "execution_count": 22,
     "metadata": {},
     "output_type": "execute_result"
    }
   ],
   "source": [
    "#check for the education unique values series\n",
    "df1_hr['education'].unique()"
   ]
  },
  {
   "cell_type": "markdown",
   "id": "e50b17e9",
   "metadata": {},
   "source": [
    "**unique values under the education are**\n",
    "- \"Master's & above\",\n",
    "- \"Bachelor's\", 'Below Secondary'"
   ]
  },
  {
   "cell_type": "code",
   "execution_count": 23,
   "id": "ed48a5da",
   "metadata": {},
   "outputs": [
    {
     "data": {
      "text/plain": [
       "array(['f', 'm'], dtype=object)"
      ]
     },
     "execution_count": 23,
     "metadata": {},
     "output_type": "execute_result"
    }
   ],
   "source": [
    "#check for the gender unique values series\n",
    "df1_hr['gender'].unique()"
   ]
  },
  {
   "cell_type": "markdown",
   "id": "ae1ce835",
   "metadata": {},
   "source": [
    "We note our gender is either female or male "
   ]
  },
  {
   "cell_type": "code",
   "execution_count": 24,
   "id": "989c01be",
   "metadata": {},
   "outputs": [
    {
     "data": {
      "text/plain": [
       "array(['sourcing', 'other', 'referred'], dtype=object)"
      ]
     },
     "execution_count": 24,
     "metadata": {},
     "output_type": "execute_result"
    }
   ],
   "source": [
    "#check for the recruitment_channel unique values series\n",
    "df1_hr['recruitment_channel'].unique()"
   ]
  },
  {
   "cell_type": "markdown",
   "id": "a51d160b",
   "metadata": {},
   "source": [
    "**The Hr recruitment channel series is**\n",
    "\n",
    "- sourcing', \n",
    "- 'other', recommended by someone\n",
    "- 'referred'- someone could have referred the candidate"
   ]
  },
  {
   "cell_type": "code",
   "execution_count": 25,
   "id": "67a168f9",
   "metadata": {},
   "outputs": [
    {
     "data": {
      "text/plain": [
       "array([ 1,  2,  3,  4,  7,  5,  6, 10,  8,  9], dtype=int64)"
      ]
     },
     "execution_count": 25,
     "metadata": {},
     "output_type": "execute_result"
    }
   ],
   "source": [
    "#check for the no_of_trainings unique values series\n",
    "df1_hr['no_of_trainings'].unique()"
   ]
  },
  {
   "cell_type": "markdown",
   "id": "6becd5a6",
   "metadata": {},
   "source": [
    "The number of training ranges from 1 - 10"
   ]
  },
  {
   "cell_type": "code",
   "execution_count": 26,
   "id": "51d53a98",
   "metadata": {},
   "outputs": [
    {
     "data": {
      "text/plain": [
       "array([35, 30, 34, 39, 45, 31, 33, 28, 32, 49, 37, 38, 27, 29, 26, 57, 40,\n",
       "       42, 23, 59, 44, 50, 56, 20, 25, 41, 47, 36, 46, 60, 43, 54, 24, 22,\n",
       "       58, 48, 55, 51, 52, 53, 21], dtype=int64)"
      ]
     },
     "execution_count": 26,
     "metadata": {},
     "output_type": "execute_result"
    }
   ],
   "source": [
    "#check for the age unique values series\n",
    "df1_hr['age'].unique()"
   ]
  },
  {
   "cell_type": "code",
   "execution_count": 27,
   "id": "af27f214",
   "metadata": {},
   "outputs": [
    {
     "data": {
      "text/plain": [
       "array([5., 3., 1., 4., 2.])"
      ]
     },
     "execution_count": 27,
     "metadata": {},
     "output_type": "execute_result"
    }
   ],
   "source": [
    "#check for the previous_year_rating unique values series\n",
    "df1_hr['previous_year_rating'].unique()"
   ]
  },
  {
   "cell_type": "code",
   "execution_count": 28,
   "id": "41a5d7ed",
   "metadata": {},
   "outputs": [
    {
     "data": {
      "text/plain": [
       "array([ 8,  4,  7, 10,  2,  5,  6,  3, 16,  9, 26, 12, 11, 17, 14, 13, 19,\n",
       "       15, 23, 20, 18, 22, 25, 28,  1, 24, 31, 21, 29, 30, 34, 27, 33, 32,\n",
       "       37], dtype=int64)"
      ]
     },
     "execution_count": 28,
     "metadata": {},
     "output_type": "execute_result"
    }
   ],
   "source": [
    "#check for the length_of_service unique values series\n",
    "df1_hr['length_of_service'].unique()"
   ]
  },
  {
   "cell_type": "code",
   "execution_count": 29,
   "id": "39b84781",
   "metadata": {},
   "outputs": [
    {
     "data": {
      "text/plain": [
       "array([1, 0], dtype=int64)"
      ]
     },
     "execution_count": 29,
     "metadata": {},
     "output_type": "execute_result"
    }
   ],
   "source": [
    "#check for the kpis_met_>80% unique values series\n",
    "df1_hr['kpis_met_>80%'].unique()"
   ]
  },
  {
   "cell_type": "code",
   "execution_count": 30,
   "id": "918fff40",
   "metadata": {},
   "outputs": [
    {
     "data": {
      "text/plain": [
       "array([0, 1], dtype=int64)"
      ]
     },
     "execution_count": 30,
     "metadata": {},
     "output_type": "execute_result"
    }
   ],
   "source": [
    "#check for the awards_won unique values series\n",
    "df1_hr['awards_won'].unique()"
   ]
  },
  {
   "cell_type": "markdown",
   "id": "622c9aa5",
   "metadata": {},
   "source": [
    "*Its either you won an award or not its either 0 or 1*"
   ]
  },
  {
   "cell_type": "code",
   "execution_count": 31,
   "id": "50c86e69",
   "metadata": {},
   "outputs": [
    {
     "data": {
      "text/plain": [
       "array([49, 60, 50, 73, 85, 59, 63, 83, 54, 80, 84, 77, 51, 46, 75, 68, 79,\n",
       "       72, 61, 58, 87, 47, 57, 52, 88, 71, 48, 65, 62, 53, 78, 44, 91, 82,\n",
       "       69, 74, 86, 90, 92, 67, 89, 56, 76, 81, 70, 45, 55, 39, 94, 93, 64,\n",
       "       66, 95, 42, 96, 40, 99, 43, 97, 41, 98], dtype=int64)"
      ]
     },
     "execution_count": 31,
     "metadata": {},
     "output_type": "execute_result"
    }
   ],
   "source": [
    "#check for the avg_training_score unique values series\n",
    "df1_hr['avg_training_score'].unique()"
   ]
  },
  {
   "cell_type": "code",
   "execution_count": 32,
   "id": "d006bcb3",
   "metadata": {},
   "outputs": [
    {
     "data": {
      "text/plain": [
       "array([0, 1], dtype=int64)"
      ]
     },
     "execution_count": 32,
     "metadata": {},
     "output_type": "execute_result"
    }
   ],
   "source": [
    "#check for the is_promoted unique values series\n",
    "df1_hr['is_promoted'].unique()"
   ]
  },
  {
   "cell_type": "markdown",
   "id": "d0d9caa6",
   "metadata": {},
   "source": [
    "*The employee is either promoted or not 1 stands for yes and 0 for null*"
   ]
  },
  {
   "cell_type": "code",
   "execution_count": 33,
   "id": "1fecb749",
   "metadata": {},
   "outputs": [
    {
     "data": {
      "text/html": [
       "<div>\n",
       "<style scoped>\n",
       "    .dataframe tbody tr th:only-of-type {\n",
       "        vertical-align: middle;\n",
       "    }\n",
       "\n",
       "    .dataframe tbody tr th {\n",
       "        vertical-align: top;\n",
       "    }\n",
       "\n",
       "    .dataframe thead th {\n",
       "        text-align: right;\n",
       "    }\n",
       "</style>\n",
       "<table border=\"1\" class=\"dataframe\">\n",
       "  <thead>\n",
       "    <tr style=\"text-align: right;\">\n",
       "      <th></th>\n",
       "      <th>employee_id</th>\n",
       "      <th>no_of_trainings</th>\n",
       "      <th>age</th>\n",
       "      <th>previous_year_rating</th>\n",
       "      <th>length_of_service</th>\n",
       "      <th>kpis_met_&gt;80%</th>\n",
       "      <th>awards_won</th>\n",
       "      <th>avg_training_score</th>\n",
       "      <th>is_promoted</th>\n",
       "    </tr>\n",
       "  </thead>\n",
       "  <tbody>\n",
       "    <tr>\n",
       "      <th>count</th>\n",
       "      <td>48660.000000</td>\n",
       "      <td>48660.000000</td>\n",
       "      <td>48660.000000</td>\n",
       "      <td>48660.000000</td>\n",
       "      <td>48660.00000</td>\n",
       "      <td>48660.000000</td>\n",
       "      <td>48660.00000</td>\n",
       "      <td>48660.000000</td>\n",
       "      <td>48660.000000</td>\n",
       "    </tr>\n",
       "    <tr>\n",
       "      <th>mean</th>\n",
       "      <td>39169.271681</td>\n",
       "      <td>1.251993</td>\n",
       "      <td>35.589437</td>\n",
       "      <td>3.337526</td>\n",
       "      <td>6.31157</td>\n",
       "      <td>0.356473</td>\n",
       "      <td>0.02314</td>\n",
       "      <td>63.603309</td>\n",
       "      <td>0.086971</td>\n",
       "    </tr>\n",
       "    <tr>\n",
       "      <th>std</th>\n",
       "      <td>22630.461554</td>\n",
       "      <td>0.604994</td>\n",
       "      <td>7.534571</td>\n",
       "      <td>1.257922</td>\n",
       "      <td>4.20476</td>\n",
       "      <td>0.478962</td>\n",
       "      <td>0.15035</td>\n",
       "      <td>13.273502</td>\n",
       "      <td>0.281795</td>\n",
       "    </tr>\n",
       "    <tr>\n",
       "      <th>min</th>\n",
       "      <td>1.000000</td>\n",
       "      <td>1.000000</td>\n",
       "      <td>20.000000</td>\n",
       "      <td>1.000000</td>\n",
       "      <td>1.00000</td>\n",
       "      <td>0.000000</td>\n",
       "      <td>0.00000</td>\n",
       "      <td>39.000000</td>\n",
       "      <td>0.000000</td>\n",
       "    </tr>\n",
       "    <tr>\n",
       "      <th>25%</th>\n",
       "      <td>19563.500000</td>\n",
       "      <td>1.000000</td>\n",
       "      <td>30.000000</td>\n",
       "      <td>3.000000</td>\n",
       "      <td>3.00000</td>\n",
       "      <td>0.000000</td>\n",
       "      <td>0.00000</td>\n",
       "      <td>51.000000</td>\n",
       "      <td>0.000000</td>\n",
       "    </tr>\n",
       "    <tr>\n",
       "      <th>50%</th>\n",
       "      <td>39154.000000</td>\n",
       "      <td>1.000000</td>\n",
       "      <td>34.000000</td>\n",
       "      <td>3.000000</td>\n",
       "      <td>5.00000</td>\n",
       "      <td>0.000000</td>\n",
       "      <td>0.00000</td>\n",
       "      <td>60.000000</td>\n",
       "      <td>0.000000</td>\n",
       "    </tr>\n",
       "    <tr>\n",
       "      <th>75%</th>\n",
       "      <td>58788.250000</td>\n",
       "      <td>1.000000</td>\n",
       "      <td>39.000000</td>\n",
       "      <td>4.000000</td>\n",
       "      <td>8.00000</td>\n",
       "      <td>1.000000</td>\n",
       "      <td>0.00000</td>\n",
       "      <td>76.000000</td>\n",
       "      <td>0.000000</td>\n",
       "    </tr>\n",
       "    <tr>\n",
       "      <th>max</th>\n",
       "      <td>78298.000000</td>\n",
       "      <td>10.000000</td>\n",
       "      <td>60.000000</td>\n",
       "      <td>5.000000</td>\n",
       "      <td>37.00000</td>\n",
       "      <td>1.000000</td>\n",
       "      <td>1.00000</td>\n",
       "      <td>99.000000</td>\n",
       "      <td>1.000000</td>\n",
       "    </tr>\n",
       "  </tbody>\n",
       "</table>\n",
       "</div>"
      ],
      "text/plain": [
       "        employee_id  no_of_trainings           age  previous_year_rating  \\\n",
       "count  48660.000000     48660.000000  48660.000000          48660.000000   \n",
       "mean   39169.271681         1.251993     35.589437              3.337526   \n",
       "std    22630.461554         0.604994      7.534571              1.257922   \n",
       "min        1.000000         1.000000     20.000000              1.000000   \n",
       "25%    19563.500000         1.000000     30.000000              3.000000   \n",
       "50%    39154.000000         1.000000     34.000000              3.000000   \n",
       "75%    58788.250000         1.000000     39.000000              4.000000   \n",
       "max    78298.000000        10.000000     60.000000              5.000000   \n",
       "\n",
       "       length_of_service  kpis_met_>80%   awards_won  avg_training_score  \\\n",
       "count        48660.00000   48660.000000  48660.00000        48660.000000   \n",
       "mean             6.31157       0.356473      0.02314           63.603309   \n",
       "std              4.20476       0.478962      0.15035           13.273502   \n",
       "min              1.00000       0.000000      0.00000           39.000000   \n",
       "25%              3.00000       0.000000      0.00000           51.000000   \n",
       "50%              5.00000       0.000000      0.00000           60.000000   \n",
       "75%              8.00000       1.000000      0.00000           76.000000   \n",
       "max             37.00000       1.000000      1.00000           99.000000   \n",
       "\n",
       "        is_promoted  \n",
       "count  48660.000000  \n",
       "mean       0.086971  \n",
       "std        0.281795  \n",
       "min        0.000000  \n",
       "25%        0.000000  \n",
       "50%        0.000000  \n",
       "75%        0.000000  \n",
       "max        1.000000  "
      ]
     },
     "execution_count": 33,
     "metadata": {},
     "output_type": "execute_result"
    }
   ],
   "source": [
    " #This shows you some basic descriptive statistics for all numeric columns in the data set.\n",
    "#which includes the count,mean,standard deviation,min and max\n",
    "df1_hr.describe()"
   ]
  },
  {
   "cell_type": "code",
   "execution_count": 34,
   "id": "983abad9",
   "metadata": {},
   "outputs": [
    {
     "data": {
      "text/plain": [
       "employee_id             0\n",
       "department              0\n",
       "region                  0\n",
       "education               0\n",
       "gender                  0\n",
       "recruitment_channel     0\n",
       "no_of_trainings         0\n",
       "age                     0\n",
       "previous_year_rating    0\n",
       "length_of_service       0\n",
       "kpis_met_>80%           0\n",
       "awards_won              0\n",
       "avg_training_score      0\n",
       "is_promoted             0\n",
       "dtype: int64"
      ]
     },
     "execution_count": 34,
     "metadata": {},
     "output_type": "execute_result"
    }
   ],
   "source": [
    "df1_hr.isnull().sum()"
   ]
  },
  {
   "cell_type": "markdown",
   "id": "b734c51b",
   "metadata": {},
   "source": [
    "## 4. Research Question\n",
    "    - The task is to predict whether a potential promotee at a checkpoint will be promoted or not after the evaluation process.?\n",
    "\n",
    "### Numerical and Categorical Data**\n",
    "- Before building the model a deep dive into our dataset shows that the data has categorical and numerical,\n",
    "\n",
    "###### Categorical features **\n",
    "- region\n",
    "- department\t\n",
    "- education\t\n",
    "- recruitment_channel\t\n",
    "- gender\n",
    "\n",
    "##### Numerical Features\n",
    "- employee_id\n",
    "- no_of_trainings\n",
    "- age\n",
    "- previous_year_rating\n",
    "- length_of_service\n",
    "- kpis_met_>80%\n",
    "- awards_won',\n",
    "- avg_training_score\n",
    "- is_promoted\n"
   ]
  },
  {
   "cell_type": "code",
   "execution_count": 35,
   "id": "f74f9e27",
   "metadata": {},
   "outputs": [
    {
     "data": {
      "text/plain": [
       "Index(['employee_id', 'no_of_trainings', 'age', 'previous_year_rating',\n",
       "       'length_of_service', 'kpis_met_>80%', 'awards_won',\n",
       "       'avg_training_score', 'is_promoted'],\n",
       "      dtype='object')"
      ]
     },
     "metadata": {},
     "output_type": "display_data"
    },
    {
     "name": "stdout",
     "output_type": "stream",
     "text": [
      "(48660, 9)\n"
     ]
    },
    {
     "data": {
      "text/html": [
       "<div>\n",
       "<style scoped>\n",
       "    .dataframe tbody tr th:only-of-type {\n",
       "        vertical-align: middle;\n",
       "    }\n",
       "\n",
       "    .dataframe tbody tr th {\n",
       "        vertical-align: top;\n",
       "    }\n",
       "\n",
       "    .dataframe thead th {\n",
       "        text-align: right;\n",
       "    }\n",
       "</style>\n",
       "<table border=\"1\" class=\"dataframe\">\n",
       "  <thead>\n",
       "    <tr style=\"text-align: right;\">\n",
       "      <th></th>\n",
       "      <th>employee_id</th>\n",
       "      <th>no_of_trainings</th>\n",
       "      <th>age</th>\n",
       "      <th>previous_year_rating</th>\n",
       "      <th>length_of_service</th>\n",
       "      <th>kpis_met_&gt;80%</th>\n",
       "      <th>awards_won</th>\n",
       "      <th>avg_training_score</th>\n",
       "      <th>is_promoted</th>\n",
       "    </tr>\n",
       "  </thead>\n",
       "  <tbody>\n",
       "    <tr>\n",
       "      <th>0</th>\n",
       "      <td>65438</td>\n",
       "      <td>1</td>\n",
       "      <td>35</td>\n",
       "      <td>5.0</td>\n",
       "      <td>8</td>\n",
       "      <td>1</td>\n",
       "      <td>0</td>\n",
       "      <td>49</td>\n",
       "      <td>0</td>\n",
       "    </tr>\n",
       "    <tr>\n",
       "      <th>1</th>\n",
       "      <td>65141</td>\n",
       "      <td>1</td>\n",
       "      <td>30</td>\n",
       "      <td>5.0</td>\n",
       "      <td>4</td>\n",
       "      <td>0</td>\n",
       "      <td>0</td>\n",
       "      <td>60</td>\n",
       "      <td>0</td>\n",
       "    </tr>\n",
       "    <tr>\n",
       "      <th>2</th>\n",
       "      <td>7513</td>\n",
       "      <td>1</td>\n",
       "      <td>34</td>\n",
       "      <td>3.0</td>\n",
       "      <td>7</td>\n",
       "      <td>0</td>\n",
       "      <td>0</td>\n",
       "      <td>50</td>\n",
       "      <td>0</td>\n",
       "    </tr>\n",
       "    <tr>\n",
       "      <th>3</th>\n",
       "      <td>2542</td>\n",
       "      <td>2</td>\n",
       "      <td>39</td>\n",
       "      <td>1.0</td>\n",
       "      <td>10</td>\n",
       "      <td>0</td>\n",
       "      <td>0</td>\n",
       "      <td>50</td>\n",
       "      <td>0</td>\n",
       "    </tr>\n",
       "    <tr>\n",
       "      <th>4</th>\n",
       "      <td>48945</td>\n",
       "      <td>1</td>\n",
       "      <td>45</td>\n",
       "      <td>3.0</td>\n",
       "      <td>2</td>\n",
       "      <td>0</td>\n",
       "      <td>0</td>\n",
       "      <td>73</td>\n",
       "      <td>0</td>\n",
       "    </tr>\n",
       "  </tbody>\n",
       "</table>\n",
       "</div>"
      ],
      "text/plain": [
       "   employee_id  no_of_trainings  age  previous_year_rating  length_of_service  \\\n",
       "0        65438                1   35                   5.0                  8   \n",
       "1        65141                1   30                   5.0                  4   \n",
       "2         7513                1   34                   3.0                  7   \n",
       "3         2542                2   39                   1.0                 10   \n",
       "4        48945                1   45                   3.0                  2   \n",
       "\n",
       "   kpis_met_>80%  awards_won  avg_training_score  is_promoted  \n",
       "0              1           0                  49            0  \n",
       "1              0           0                  60            0  \n",
       "2              0           0                  50            0  \n",
       "3              0           0                  50            0  \n",
       "4              0           0                  73            0  "
      ]
     },
     "execution_count": 35,
     "metadata": {},
     "output_type": "execute_result"
    }
   ],
   "source": [
    "#Create a dataframe for the numerical data object as df2_hr and assign numerical data into df2_hr object\n",
    "numerics = ['int8','int16', 'int32', 'int64', 'float16', 'float32', 'float64']\n",
    "display(df1_hr.select_dtypes(include=numerics).columns)\n",
    "print(df1_hr.select_dtypes(include=numerics).shape)\n",
    "df2_hr = df1_hr.select_dtypes(include=numerics)\n",
    "df2_hr.head(5)"
   ]
  },
  {
   "cell_type": "code",
   "execution_count": 36,
   "id": "3fb294e1",
   "metadata": {},
   "outputs": [],
   "source": [
    "x_norm = df2_hr[['employee_id','no_of_trainings','age','previous_year_rating','length_of_service','kpis_met_>80%','awards_won','avg_training_score'\n",
    "            ]]\n",
    "y_norm = df2_hr['is_promoted']"
   ]
  },
  {
   "cell_type": "code",
   "execution_count": 37,
   "id": "c226cae6",
   "metadata": {},
   "outputs": [
    {
     "data": {
      "text/html": [
       "<div>\n",
       "<style scoped>\n",
       "    .dataframe tbody tr th:only-of-type {\n",
       "        vertical-align: middle;\n",
       "    }\n",
       "\n",
       "    .dataframe tbody tr th {\n",
       "        vertical-align: top;\n",
       "    }\n",
       "\n",
       "    .dataframe thead th {\n",
       "        text-align: right;\n",
       "    }\n",
       "</style>\n",
       "<table border=\"1\" class=\"dataframe\">\n",
       "  <thead>\n",
       "    <tr style=\"text-align: right;\">\n",
       "      <th></th>\n",
       "      <th>employee_id</th>\n",
       "      <th>no_of_trainings</th>\n",
       "      <th>age</th>\n",
       "      <th>previous_year_rating</th>\n",
       "      <th>length_of_service</th>\n",
       "      <th>kpis_met_&gt;80%</th>\n",
       "      <th>awards_won</th>\n",
       "      <th>avg_training_score</th>\n",
       "    </tr>\n",
       "  </thead>\n",
       "  <tbody>\n",
       "    <tr>\n",
       "      <th>0</th>\n",
       "      <td>65438</td>\n",
       "      <td>1</td>\n",
       "      <td>35</td>\n",
       "      <td>5.0</td>\n",
       "      <td>8</td>\n",
       "      <td>1</td>\n",
       "      <td>0</td>\n",
       "      <td>49</td>\n",
       "    </tr>\n",
       "    <tr>\n",
       "      <th>1</th>\n",
       "      <td>65141</td>\n",
       "      <td>1</td>\n",
       "      <td>30</td>\n",
       "      <td>5.0</td>\n",
       "      <td>4</td>\n",
       "      <td>0</td>\n",
       "      <td>0</td>\n",
       "      <td>60</td>\n",
       "    </tr>\n",
       "    <tr>\n",
       "      <th>2</th>\n",
       "      <td>7513</td>\n",
       "      <td>1</td>\n",
       "      <td>34</td>\n",
       "      <td>3.0</td>\n",
       "      <td>7</td>\n",
       "      <td>0</td>\n",
       "      <td>0</td>\n",
       "      <td>50</td>\n",
       "    </tr>\n",
       "    <tr>\n",
       "      <th>3</th>\n",
       "      <td>2542</td>\n",
       "      <td>2</td>\n",
       "      <td>39</td>\n",
       "      <td>1.0</td>\n",
       "      <td>10</td>\n",
       "      <td>0</td>\n",
       "      <td>0</td>\n",
       "      <td>50</td>\n",
       "    </tr>\n",
       "    <tr>\n",
       "      <th>4</th>\n",
       "      <td>48945</td>\n",
       "      <td>1</td>\n",
       "      <td>45</td>\n",
       "      <td>3.0</td>\n",
       "      <td>2</td>\n",
       "      <td>0</td>\n",
       "      <td>0</td>\n",
       "      <td>73</td>\n",
       "    </tr>\n",
       "    <tr>\n",
       "      <th>...</th>\n",
       "      <td>...</td>\n",
       "      <td>...</td>\n",
       "      <td>...</td>\n",
       "      <td>...</td>\n",
       "      <td>...</td>\n",
       "      <td>...</td>\n",
       "      <td>...</td>\n",
       "      <td>...</td>\n",
       "    </tr>\n",
       "    <tr>\n",
       "      <th>54802</th>\n",
       "      <td>6915</td>\n",
       "      <td>2</td>\n",
       "      <td>31</td>\n",
       "      <td>1.0</td>\n",
       "      <td>2</td>\n",
       "      <td>0</td>\n",
       "      <td>0</td>\n",
       "      <td>49</td>\n",
       "    </tr>\n",
       "    <tr>\n",
       "      <th>54803</th>\n",
       "      <td>3030</td>\n",
       "      <td>1</td>\n",
       "      <td>48</td>\n",
       "      <td>3.0</td>\n",
       "      <td>17</td>\n",
       "      <td>0</td>\n",
       "      <td>0</td>\n",
       "      <td>78</td>\n",
       "    </tr>\n",
       "    <tr>\n",
       "      <th>54804</th>\n",
       "      <td>74592</td>\n",
       "      <td>1</td>\n",
       "      <td>37</td>\n",
       "      <td>2.0</td>\n",
       "      <td>6</td>\n",
       "      <td>0</td>\n",
       "      <td>0</td>\n",
       "      <td>56</td>\n",
       "    </tr>\n",
       "    <tr>\n",
       "      <th>54805</th>\n",
       "      <td>13918</td>\n",
       "      <td>1</td>\n",
       "      <td>27</td>\n",
       "      <td>5.0</td>\n",
       "      <td>3</td>\n",
       "      <td>1</td>\n",
       "      <td>0</td>\n",
       "      <td>79</td>\n",
       "    </tr>\n",
       "    <tr>\n",
       "      <th>54807</th>\n",
       "      <td>51526</td>\n",
       "      <td>1</td>\n",
       "      <td>27</td>\n",
       "      <td>1.0</td>\n",
       "      <td>5</td>\n",
       "      <td>0</td>\n",
       "      <td>0</td>\n",
       "      <td>49</td>\n",
       "    </tr>\n",
       "  </tbody>\n",
       "</table>\n",
       "<p>48660 rows × 8 columns</p>\n",
       "</div>"
      ],
      "text/plain": [
       "       employee_id  no_of_trainings  age  previous_year_rating  \\\n",
       "0            65438                1   35                   5.0   \n",
       "1            65141                1   30                   5.0   \n",
       "2             7513                1   34                   3.0   \n",
       "3             2542                2   39                   1.0   \n",
       "4            48945                1   45                   3.0   \n",
       "...            ...              ...  ...                   ...   \n",
       "54802         6915                2   31                   1.0   \n",
       "54803         3030                1   48                   3.0   \n",
       "54804        74592                1   37                   2.0   \n",
       "54805        13918                1   27                   5.0   \n",
       "54807        51526                1   27                   1.0   \n",
       "\n",
       "       length_of_service  kpis_met_>80%  awards_won  avg_training_score  \n",
       "0                      8              1           0                  49  \n",
       "1                      4              0           0                  60  \n",
       "2                      7              0           0                  50  \n",
       "3                     10              0           0                  50  \n",
       "4                      2              0           0                  73  \n",
       "...                  ...            ...         ...                 ...  \n",
       "54802                  2              0           0                  49  \n",
       "54803                 17              0           0                  78  \n",
       "54804                  6              0           0                  56  \n",
       "54805                  3              1           0                  79  \n",
       "54807                  5              0           0                  49  \n",
       "\n",
       "[48660 rows x 8 columns]"
      ]
     },
     "execution_count": 37,
     "metadata": {},
     "output_type": "execute_result"
    }
   ],
   "source": [
    "x_norm"
   ]
  },
  {
   "cell_type": "code",
   "execution_count": 38,
   "id": "92ffa6e7",
   "metadata": {},
   "outputs": [
    {
     "data": {
      "text/plain": [
       "0        0\n",
       "1        0\n",
       "2        0\n",
       "3        0\n",
       "4        0\n",
       "        ..\n",
       "54802    0\n",
       "54803    0\n",
       "54804    0\n",
       "54805    0\n",
       "54807    0\n",
       "Name: is_promoted, Length: 48660, dtype: int64"
      ]
     },
     "execution_count": 38,
     "metadata": {},
     "output_type": "execute_result"
    }
   ],
   "source": [
    "y_norm"
   ]
  },
  {
   "cell_type": "markdown",
   "id": "c81da8e7",
   "metadata": {},
   "source": [
    "### 5. Building the model using DecisionTreeClassifier"
   ]
  },
  {
   "cell_type": "markdown",
   "id": "aa3466f5",
   "metadata": {},
   "source": [
    "**Splitting the dataset, 80% for training and 20% for test data.**\n",
    "- We use the scientific analogy for splitting the dataset into training and test data."
   ]
  },
  {
   "cell_type": "code",
   "execution_count": 40,
   "id": "f3219fe8",
   "metadata": {},
   "outputs": [],
   "source": [
    "#Splitting the data into Train and Test\n",
    "from sklearn.model_selection import train_test_split\n",
    "xtrain, xtest, ytrain, ytest = train_test_split(x_norm,y_norm,test_size=0.2, random_state=42)"
   ]
  },
  {
   "cell_type": "code",
   "execution_count": 41,
   "id": "8ac52ed9",
   "metadata": {},
   "outputs": [
    {
     "data": {
      "text/plain": [
       "(38928, 8)"
      ]
     },
     "execution_count": 41,
     "metadata": {},
     "output_type": "execute_result"
    }
   ],
   "source": [
    "xtrain.shape"
   ]
  },
  {
   "cell_type": "code",
   "execution_count": 42,
   "id": "2c5e5f2d",
   "metadata": {},
   "outputs": [
    {
     "data": {
      "text/plain": [
       "(9732, 8)"
      ]
     },
     "execution_count": 42,
     "metadata": {},
     "output_type": "execute_result"
    }
   ],
   "source": [
    "xtest.shape"
   ]
  },
  {
   "cell_type": "code",
   "execution_count": 43,
   "id": "938ff0b0",
   "metadata": {},
   "outputs": [
    {
     "name": "stdout",
     "output_type": "stream",
     "text": [
      "(38928, 8) (38928,) (9732, 8) (9732,)\n"
     ]
    }
   ],
   "source": [
    "#we print out the shapes \n",
    "print(xtrain.shape, ytrain.shape,xtest.shape, ytest.shape)"
   ]
  },
  {
   "cell_type": "code",
   "execution_count": 44,
   "id": "1334240d",
   "metadata": {},
   "outputs": [
    {
     "data": {
      "text/plain": [
       "92.03658035347307"
      ]
     },
     "execution_count": 44,
     "metadata": {},
     "output_type": "execute_result"
    }
   ],
   "source": [
    "#We now fit the model to determine the accuracy using Decision Trees\n",
    "from sklearn.tree import DecisionTreeClassifier\n",
    "from sklearn.metrics import accuracy_score\n",
    "from sklearn import tree\n",
    "clf_gini=DecisionTreeClassifier(criterion=\"gini\", random_state=100,max_depth=3, min_samples_leaf=5)\n",
    "clf_gini.fit(xtrain, ytrain)\n",
    "Y_pred=clf_gini.predict(xtest)\n",
    "from sklearn import metrics\n",
    "metrics.accuracy_score(ytest,Y_pred)*100"
   ]
  },
  {
   "cell_type": "code",
   "execution_count": 45,
   "id": "ff4ba8e4",
   "metadata": {},
   "outputs": [
    {
     "data": {
      "image/png": "[encoded data removed]",
      "text/plain": [
       "<IPython.core.display.Image object>"
      ]
     },
     "execution_count": 45,
     "metadata": {},
     "output_type": "execute_result"
    }
   ],
   "source": [
    "import pydotplus\n",
    "from sklearn.tree import export_graphviz\n",
    "from IPython.display import Image\n",
    "df2_hr=tree.export_graphviz(clf_gini)\n",
    "graph=pydotplus.graph_from_dot_data(df2_hr)\n",
    "Image(graph.create_png())"
   ]
  },
  {
   "cell_type": "code",
   "execution_count": 46,
   "id": "73345498",
   "metadata": {},
   "outputs": [],
   "source": [
    "#Making prediction with the new dataset\n",
    "from sklearn.model_selection import train_test_split\n",
    "xtrain,xtest,ytrain,ytest=train_test_split(x_norm,y_norm,test_size=0.20,random_state=42)\n",
    "from sklearn.metrics import accuracy_score"
   ]
  },
  {
   "cell_type": "code",
   "execution_count": 47,
   "id": "152eeade",
   "metadata": {},
   "outputs": [],
   "source": [
    "maxdepths=[3,4,5,6,7,8,9,10,11,15,20,25,30,35,40,45,50,60]# alist contains\n",
    "trainAcc=np.zeros(len(maxdepths))\n",
    "testAcc=np.zeros(len(maxdepths))"
   ]
  },
  {
   "cell_type": "code",
   "execution_count": 48,
   "id": "8c406ecb",
   "metadata": {},
   "outputs": [
    {
     "data": {
      "text/plain": [
       "array([0., 0., 0., 0., 0., 0., 0., 0., 0., 0., 0., 0., 0., 0., 0., 0., 0.,\n",
       "       0.])"
      ]
     },
     "execution_count": 48,
     "metadata": {},
     "output_type": "execute_result"
    }
   ],
   "source": [
    "trainAcc"
   ]
  },
  {
   "cell_type": "code",
   "execution_count": 49,
   "id": "d35a3a4f",
   "metadata": {},
   "outputs": [
    {
     "data": {
      "text/plain": [
       "array([0., 0., 0., 0., 0., 0., 0., 0., 0., 0., 0., 0., 0., 0., 0., 0., 0.,\n",
       "       0.])"
      ]
     },
     "execution_count": 49,
     "metadata": {},
     "output_type": "execute_result"
    }
   ],
   "source": [
    "testAcc"
   ]
  },
  {
   "cell_type": "code",
   "execution_count": 50,
   "id": "09c4be8b",
   "metadata": {},
   "outputs": [],
   "source": [
    "index=0\n",
    "for depth in maxdepths:\n",
    "    clf=tree.DecisionTreeClassifier(max_depth=depth)\n",
    "    clf=clf.fit(xtrain,ytrain)\n",
    "    y_predTrain=clf.predict(xtrain)\n",
    "    y_predTest=clf.predict(xtest)\n",
    "    trainAcc[index]=accuracy_score(ytrain,y_predTrain)\n",
    "    testAcc[index]=accuracy_score(ytest,y_predTest)\n",
    "    index +=1"
   ]
  },
  {
   "cell_type": "markdown",
   "id": "36b3609c",
   "metadata": {},
   "source": [
    "## Plotting the Data Graphically"
   ]
  },
  {
   "cell_type": "code",
   "execution_count": 51,
   "id": "7ca8d4f4",
   "metadata": {},
   "outputs": [
    {
     "data": {
      "text/plain": [
       "Text(0, 0.5, 'Accuracy')"
      ]
     },
     "execution_count": 51,
     "metadata": {},
     "output_type": "execute_result"
    },
    {
     "data": {
      "image/png": "[encoded data removed]",
      "text/plain": [
       "<Figure size 432x288 with 1 Axes>"
      ]
     },
     "metadata": {
      "needs_background": "light"
     },
     "output_type": "display_data"
    }
   ],
   "source": [
    "import matplotlib.pyplot as plt\n",
    "from numpy.random import random\n",
    "plt.plot(maxdepths,trainAcc,'ro-',maxdepths,testAcc,'bv--')\n",
    "plt.legend(['Training Accuracy','Test Accuracy'])\n",
    "plt.xlabel('Max Depth')\n",
    "plt.ylabel('Accuracy')"
   ]
  },
  {
   "cell_type": "markdown",
   "id": "a28e170a",
   "metadata": {},
   "source": [
    "*** The plot shows that the accuracy will continue to improve as the maximum depth of the tree increases,i.e the model becomes more complex"
   ]
  },
  {
   "cell_type": "markdown",
   "id": "f63833a6",
   "metadata": {},
   "source": [
    "## 6. Model Accuracy and Recommendation to our research question"
   ]
  },
  {
   "cell_type": "markdown",
   "id": "2466b38b",
   "metadata": {},
   "source": [
    "- Based on the training accuracy graph, it increases with increase in depth. The same happens with test accuracy graph. It increases sharply then decreases slightly then it drops. From the test accuracy graph, the model performs best when it has a depth of 10  this is where it the best deploy it (with this depth its accuracy level in 92. The HR team can adopt and deploy the model to production. \n",
    "- The client needs to update the employees with missing data on education and previous year rating since each organization has employees performance review after the financial year all the records should be upto date."
   ]
  },
  {
   "cell_type": "code",
   "execution_count": null,
   "id": "e53a9884",
   "metadata": {},
   "outputs": [],
   "source": []
  }
 ],
 "metadata": {
  "kernelspec": {
   "display_name": "Python 3",
   "language": "python",
   "name": "python3"
  },
  "language_info": {
   "codemirror_mode": {
    "name": "ipython",
    "version": 3
   },
   "file_extension": ".py",
   "mimetype": "text/x-python",
   "name": "python",
   "nbconvert_exporter": "python",
   "pygments_lexer": "ipython3",
   "version": "3.8.8"
  }
 },
 "nbformat": 4,
 "nbformat_minor": 5
}
